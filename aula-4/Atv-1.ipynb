{
 "cells": [
  {
   "cell_type": "code",
   "execution_count": 8,
   "metadata": {},
   "outputs": [
    {
     "name": "stdout",
     "output_type": "stream",
     "text": [
      "Multiplo de 5 detectado!\n"
     ]
    }
   ],
   "source": [
    "numero = int(input(\"Digite um númeo: \"))\n",
    "if numero % 5 == 0:\n",
    "    print(\"Multiplo de 5 detectado!\")"
   ]
  },
  {
   "cell_type": "code",
   "execution_count": 3,
   "metadata": {},
   "outputs": [
    {
     "name": "stdout",
     "output_type": "stream",
     "text": [
      "Você tem altura suficiente para entrar no brinquedo.\n"
     ]
    }
   ],
   "source": [
    "altura = float(input(\"Digite sua altura: \"))\n",
    "if altura >= 150:\n",
    "    print(\"Você tem altura suficiente para entrar no brinquedo.\")\n",
    "else:\n",
    "    print(\"Desculpe, você não tem altura suficiente para entrar no brinquedo.\")"
   ]
  },
  {
   "cell_type": "code",
   "execution_count": 7,
   "metadata": {},
   "outputs": [
    {
     "name": "stdout",
     "output_type": "stream",
     "text": [
      "Acesso permitido.\n",
      "Entrando na área administrativa...\n"
     ]
    }
   ],
   "source": [
    "senha = str(input(\"Digite sua senha: \"))\n",
    "if senha == \"1234\":\n",
    "    print(\"Acesso permitido.\")\n",
    "    resposta = str(input('Deseja acessar a área administrativa? (\"S\" para sim, \"N\" para não)'))\n",
    "    if resposta == \"S\":\n",
    "        print(\"Entrando na área administrativa...\")\n",
    "    else:\n",
    "        print(\"Você está na área de usuário comum.\")\n",
    "else:\n",
    "    print(\"Senha incorreta! Acesso negado.\")"
   ]
  }
 ],
 "metadata": {
  "kernelspec": {
   "display_name": "base",
   "language": "python",
   "name": "python3"
  },
  "language_info": {
   "codemirror_mode": {
    "name": "ipython",
    "version": 3
   },
   "file_extension": ".py",
   "mimetype": "text/x-python",
   "name": "python",
   "nbconvert_exporter": "python",
   "pygments_lexer": "ipython3",
   "version": "3.9.13"
  }
 },
 "nbformat": 4,
 "nbformat_minor": 2
}
