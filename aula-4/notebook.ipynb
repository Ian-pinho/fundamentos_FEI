{
 "cells": [
  {
   "cell_type": "code",
   "execution_count": 2,
   "metadata": {},
   "outputs": [
    {
     "name": "stdout",
     "output_type": "stream",
     "text": [
      "1000.0 Nordeste\n"
     ]
    }
   ],
   "source": [
    "preco = float(input(\"Digite o preço do produto: \"))\n",
    "codigo = int(input(\"Digite o código do produto: \"))\n",
    "procedencia=\"\"\n",
    "if codigo <1 >30:\n",
    "    procedencia = \"Importado\"\n",
    "elif codigo == 1:\n",
    "    procedencia = \"Sul\"\n",
    "elif codigo == 2:\n",
    "    procedencia = \"Norte\"\n",
    "elif codigo == 3:\n",
    "    procedencia = \"Leste\"\n",
    "elif codigo == 4:\n",
    "    procedencia = \"Oeste\"\n",
    "elif codigo == 5 or codigo == 6:\n",
    "    procedencia = \"Nordeste\"\n",
    "elif codigo >6 and codigo <10:\n",
    "    procedencia = \"Sudeste\"\n",
    "elif codigo >10 and codigo <21:\n",
    "    procedencia = \"Centro-Oeste\"\n",
    "elif codigo > 24 and codigo <31:\n",
    "    procedencia = \"Nordeste\"\n",
    "\n",
    "print(preco, procedencia)"
   ]
  },
  {
   "cell_type": "code",
   "execution_count": 13,
   "metadata": {},
   "outputs": [
    {
     "name": "stdout",
     "output_type": "stream",
     "text": [
      "2\n",
      "4\n",
      "8\n"
     ]
    }
   ],
   "source": [
    "n1 = int(input(\"Digite o primeiro número\"))\n",
    "n2 = int(input(\"Digite o segundo número\"))\n",
    "if n2 == n1:\n",
    "    n2 = int(input(\"Digite um número diferente do primeiro número\"))\n",
    "n3 = int(input(\"Digite o terceiro número\"))\n",
    "if n3 == n2 or n3 == n1:\n",
    "    n3 = int(input(\"Digite um número diferente dos anteriores\"))\n",
    "ordem = []\n",
    "ordem.append(n1)\n",
    "ordem.append(n2)\n",
    "ordem.append(n3)\n",
    "ordem.sort()\n",
    "for numeros in ordem:\n",
    "    print(numeros)"
   ]
  },
  {
   "cell_type": "code",
   "execution_count": 15,
   "metadata": {},
   "outputs": [
    {
     "name": "stdout",
     "output_type": "stream",
     "text": [
      "Seu peso ideal é:  69.22500000000001\n"
     ]
    }
   ],
   "source": [
    "altura = float(input(\"Digite sua altura: \"))\n",
    "sexo = str(input(\"Digite seu sexo\"))\n",
    "if sexo == \"Masculino\":\n",
    "    print(\"Seu peso ideal é: \", (72.7*altura)-58)\n",
    "elif sexo == \"Feminino\":\n",
    "    print(\"Seu peso ideal é: \", (62.1*altura)-44.7)\n",
    "else:\n",
    "    sexo = str(input(\"Digite um sexo válido\"))"
   ]
  },
  {
   "cell_type": "code",
   "execution_count": 16,
   "metadata": {},
   "outputs": [
    {
     "name": "stdout",
     "output_type": "stream",
     "text": [
      "Sua idade é:  18\n",
      "Você já tem idade para votar e tirar a CNH\n"
     ]
    }
   ],
   "source": [
    "nascimento = int(input(\"Seu ano de nascimento: \"))\n",
    "idade = 2025-nascimento\n",
    "print(\"Sua idade é: \", idade)\n",
    "if idade < 16:\n",
    "    print(\"Você não tem idade para votar nem para dirigir\")\n",
    "elif idade >= 16 and idade >= 18:\n",
    "    print(\"Você já tem idade para votar e tirar a CNH\")\n",
    "elif idade >= 16 and idade < 18:\n",
    "    print(\"Você já tem idade para votar mas não para tirar a CNH\")"
   ]
  },
  {
   "cell_type": "code",
   "execution_count": 24,
   "metadata": {},
   "outputs": [
    {
     "name": "stdout",
     "output_type": "stream",
     "text": [
      "Inválido\n"
     ]
    }
   ],
   "source": [
    "codigo = int(input(\"Digite o código do produto: \"))\n",
    "classificacao=\"\"\n",
    "if codigo <1 or codigo >15:\n",
    "    classificacao = \"Inválido\"\n",
    "elif codigo == 1:\n",
    "    classificacao = \"Alimento não perecível\"\n",
    "elif codigo == 2 or codigo == 3 or codigo == 4:\n",
    "    classificacao = \" Alimento perecível\"\n",
    "elif codigo == 5 or codigo == 6:\n",
    "    classificacao = \"Vestuário\"\n",
    "elif codigo == 7:\n",
    "    classificacao = \"Higiene pessoal\"\n",
    "elif codigo >7 and codigo <16:\n",
    "    classificacao = \"Limpeza e utensílios domésticos\"\n",
    "print(classificacao)"
   ]
  }
 ],
 "metadata": {
  "kernelspec": {
   "display_name": "base",
   "language": "python",
   "name": "python3"
  },
  "language_info": {
   "codemirror_mode": {
    "name": "ipython",
    "version": 3
   },
   "file_extension": ".py",
   "mimetype": "text/x-python",
   "name": "python",
   "nbconvert_exporter": "python",
   "pygments_lexer": "ipython3",
   "version": "3.9.13"
  }
 },
 "nbformat": 4,
 "nbformat_minor": 2
}
