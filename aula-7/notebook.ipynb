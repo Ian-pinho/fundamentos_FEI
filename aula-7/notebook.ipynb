{
 "cells": [
  {
   "cell_type": "code",
<<<<<<< HEAD
   "execution_count": 4,
=======
   "execution_count": 3,
>>>>>>> 8a9b0785aaec3ea235f24549eb0d1afa8cb58a79
   "metadata": {},
   "outputs": [
    {
     "name": "stdout",
     "output_type": "stream",
     "text": [
<<<<<<< HEAD
      "['1', '2', '3', '4', '5']\n",
      "1 5\n"
=======
      "4.0\n",
      "15.0\n"
>>>>>>> 8a9b0785aaec3ea235f24549eb0d1afa8cb58a79
     ]
    }
   ],
   "source": [
<<<<<<< HEAD
    "v1=input()\n",
    "v2=input()\n",
    "v3=input()\n",
    "v4=input()\n",
    "v5=input()\n",
    "l=[]\n",
    "l.append(v1)\n",
    "l.append(v2)\n",
    "l.append(v3)\n",
    "l.append(v4)\n",
    "l.append(v5)\n",
    "print(l)\n",
    "print(l[0], l[4])\n",
    "\n"
=======
    "def med(x,y):\n",
    "    media = (x+y)/2\n",
    "    print(media)\n",
    "med(1,7)\n",
    "med(10,20)"
>>>>>>> 8a9b0785aaec3ea235f24549eb0d1afa8cb58a79
   ]
  },
  {
   "cell_type": "code",
<<<<<<< HEAD
   "execution_count": 7,
=======
   "execution_count": 15,
>>>>>>> 8a9b0785aaec3ea235f24549eb0d1afa8cb58a79
   "metadata": {},
   "outputs": [
    {
     "name": "stdout",
     "output_type": "stream",
     "text": [
<<<<<<< HEAD
      "['1', '2', '3', '4', '5', '6']\n",
      "1 6\n"
=======
      "Média de 10 e 20 é = 15.0\n"
>>>>>>> 8a9b0785aaec3ea235f24549eb0d1afa8cb58a79
     ]
    }
   ],
   "source": [
<<<<<<< HEAD
    "nums = int(input(\"Digite quantos números quer colocar na lista: \"))\n",
    "cont = 0\n",
    "lista=[]\n",
    "while cont != nums:\n",
    "    num = input(\"Digite o número para colocar na lista: \")\n",
    "    lista.append(num)\n",
    "    cont+=1\n",
    "print(lista)\n",
    "print(lista[0], lista[len(lista)-1])"
   ]
  },
  {
   "cell_type": "code",
   "execution_count": 28,
   "metadata": {},
   "outputs": [
    {
     "name": "stdout",
     "output_type": "stream",
     "text": [
      "2\n"
     ]
    }
   ],
   "source": [
    "T = [11, 7, 2, 4]\n",
    "\n",
    "print(sorted(T, key=int)[0])"
=======
    "def med(x,y):\n",
    "    media = (x+y)/2\n",
    "    return media\n",
    "\n",
    "n1=int(input(\"Número 1\"))\n",
    "n2=int(input(\"Número 2\"))\n",
    "print(f\"Média de {n1} e {n2} é = {med(n1,n2)}\")"
>>>>>>> 8a9b0785aaec3ea235f24549eb0d1afa8cb58a79
   ]
  },
  {
   "cell_type": "code",
<<<<<<< HEAD
   "execution_count": 29,
=======
   "execution_count": 20,
>>>>>>> 8a9b0785aaec3ea235f24549eb0d1afa8cb58a79
   "metadata": {},
   "outputs": [
    {
     "name": "stdout",
     "output_type": "stream",
     "text": [
<<<<<<< HEAD
      "2\n"
=======
      "O maior de 10 e 11 é = 11\n"
>>>>>>> 8a9b0785aaec3ea235f24549eb0d1afa8cb58a79
     ]
    }
   ],
   "source": [
<<<<<<< HEAD
    "T = [11, 7, 2, 4]\n",
    "\n",
    "print(min(T))"
=======
    "def maximo (n1,n2):\n",
    "    list = [n1, n2]\n",
    "    maior = max(list)\n",
    "    return maior\n",
    "\n",
    "n1=int(input(\"Número 1\"))\n",
    "n2=int(input(\"Número 2\"))\n",
    "print(f\"O maior de {n1} e {n2} é = {maximo(n1,n2)}\")"
>>>>>>> 8a9b0785aaec3ea235f24549eb0d1afa8cb58a79
   ]
  },
  {
   "cell_type": "code",
<<<<<<< HEAD
   "execution_count": 41,
=======
   "execution_count": 23,
>>>>>>> 8a9b0785aaec3ea235f24549eb0d1afa8cb58a79
   "metadata": {},
   "outputs": [
    {
     "name": "stdout",
     "output_type": "stream",
     "text": [
<<<<<<< HEAD
      "0 987968465134168\n"
=======
      "a afirmação '10 é multiplo de 3' = False\n"
>>>>>>> 8a9b0785aaec3ea235f24549eb0d1afa8cb58a79
     ]
    }
   ],
   "source": [
<<<<<<< HEAD
    "list=[]\n",
    "\n",
    "for num in range(10):\n",
    "    num=int(input(\"Digite um número: \"))\n",
    "    list.append(num)\n",
    "maior = max(list)\n",
    "print(list.index(max(list)), max(list))"
=======
    "def multiplo(x, y):\n",
    "    if x % y == 0:\n",
    "        return True\n",
    "    else: \n",
    "        return False\n",
    "    \n",
    "n1=int(input(\"Número 1\"))\n",
    "n2=int(input(\"Número 2\"))\n",
    "print(f\"a afirmação '{n1} é multiplo de {n2}' = {multiplo(n1,n2)}\")"
>>>>>>> 8a9b0785aaec3ea235f24549eb0d1afa8cb58a79
   ]
  },
  {
   "cell_type": "code",
   "execution_count": null,
   "metadata": {},
   "outputs": [
    {
     "name": "stdout",
     "output_type": "stream",
     "text": [
<<<<<<< HEAD
      "[1, 2, 3, 4, 5, 6, 7, 8, 9, 10]\n",
      "30\n",
      "25\n",
      "None\n"
=======
      "a area da piramide de base 10 e altura 10 é= 50.0\n"
>>>>>>> 8a9b0785aaec3ea235f24549eb0d1afa8cb58a79
     ]
    }
   ],
   "source": [
<<<<<<< HEAD
    "list=[]\n",
    "par=0\n",
    "indxPar=0\n",
    "for num in range(10):\n",
    "    num=int(input(\"Digite um número: \"))\n",
    "    list.append(num)\n",
    "for idx in range(10):\n",
    "    if list[idx]%2==0:\n",
    "        par+=list[idx]\n",
    "    if idx%2==0:\n",
    "        indxPar+=list[idx]\n",
    "print(list)\n",
    "print(par)\n",
    "print(indxPar)\n"
=======
    "def tri(x,y):\n",
    "    area = x*y/2\n",
    "    return area\n",
    "\n",
    "n1=int(input(\"Número 1\"))\n",
    "n2=int(input(\"Número 2\"))\n",
    "print(f\"a area da piramide de base {n1} e altura {n2} é= {tri(n1,n2)}\")"
>>>>>>> 8a9b0785aaec3ea235f24549eb0d1afa8cb58a79
   ]
  },
  {
   "cell_type": "code",
<<<<<<< HEAD
   "execution_count": 43,
=======
   "execution_count": null,
>>>>>>> 8a9b0785aaec3ea235f24549eb0d1afa8cb58a79
   "metadata": {},
   "outputs": [
    {
     "name": "stdout",
     "output_type": "stream",
     "text": [
<<<<<<< HEAD
      "10\n",
      "9\n",
      "8\n",
      "7\n",
      "6\n",
      "5\n",
      "4\n",
      "3\n",
      "2\n",
      "1\n"
=======
      "resultado é = 39.48683298050514\n"
>>>>>>> 8a9b0785aaec3ea235f24549eb0d1afa8cb58a79
     ]
    }
   ],
   "source": [
<<<<<<< HEAD
    "list=[]\n",
    "inv = -1\n",
    "nums = int(input(\"Digite quantos números quer colocar na lista: \"))\n",
    "for num in range(nums):\n",
    "    num=int(input(\"Digite um número: \"))\n",
    "    list.append(num)\n",
    "for i in list:\n",
    "    print(list[inv])\n",
    "    inv-=1"
=======
    "from math import sqrt\n",
    "def coiso(x,y,z):\n",
    "    return sqrt(x) + sqrt(y) + sqrt(z) + (x+y)/2 + (y+z)/2 + (x+z)/2\n",
    "\n",
    "n1=int(input(\"Número 1\"))\n",
    "n2=int(input(\"Número 2\"))\n",
    "n3=int(input(\"Número 3\"))\n",
    "print(f\"resultado é = {coiso(n1,n2,n3)}\")"
>>>>>>> 8a9b0785aaec3ea235f24549eb0d1afa8cb58a79
   ]
  },
  {
   "cell_type": "code",
<<<<<<< HEAD
   "execution_count": 63,
=======
   "execution_count": 47,
>>>>>>> 8a9b0785aaec3ea235f24549eb0d1afa8cb58a79
   "metadata": {},
   "outputs": [
    {
     "name": "stdout",
     "output_type": "stream",
     "text": [
<<<<<<< HEAD
      "[10, 9, 8, 7, 6, 5, 4, 3, 2, 1]\n"
=======
      "Pode doar sangue\n"
>>>>>>> 8a9b0785aaec3ea235f24549eb0d1afa8cb58a79
     ]
    }
   ],
   "source": [
<<<<<<< HEAD
    "list=[]\n",
    "inv = -1\n",
    "nums = int(input(\"Digite quantos números quer colocar na lista: \"))\n",
    "for num in range(nums):\n",
    "    num=int(input(\"Digite um número: \"))\n",
    "    list.append(num)\n",
    "list.reverse()\n",
    "print(list)"
=======
    "sex = str(input(\"Digite seu sexo\"))\n",
    "pes = float(input(\"Digite seu peso\"))\n",
    "\n",
    "def sangue (x,y):\n",
    "    if x == \"m\":\n",
    "        if y > 60:\n",
    "            return True\n",
    "        else: \n",
    "            return False\n",
    "    else:\n",
    "        if y > 50:\n",
    "            return True\n",
    "        else: \n",
    "            return False\n",
    "if sangue(sex,pes):\n",
    "    print(\"Pode doar sangue\")\n",
    "else:\n",
    "    print(\"Não pode doar sangue\")"
>>>>>>> 8a9b0785aaec3ea235f24549eb0d1afa8cb58a79
   ]
  },
  {
   "cell_type": "code",
<<<<<<< HEAD
   "execution_count": 66,
=======
   "execution_count": null,
>>>>>>> 8a9b0785aaec3ea235f24549eb0d1afa8cb58a79
   "metadata": {},
   "outputs": [
    {
     "name": "stdout",
     "output_type": "stream",
     "text": [
<<<<<<< HEAD
      "[1, 2, 5, 3, 2, 6, 1, 2, 10, 9]\n",
      "5\n",
      "6\n",
      "10\n"
=======
      "Não é data mágica\n"
>>>>>>> 8a9b0785aaec3ea235f24549eb0d1afa8cb58a79
     ]
    }
   ],
   "source": [
<<<<<<< HEAD
    "list = []\n",
    "for num in range(10):\n",
    "    num=int(input(\"Digite um número: \"))\n",
    "    list.append(num)\n",
    "print(list)\n",
    "for i in list[2:]:\n",
    "    if i> list[list.index(i)-1] + list[list.index(i)-2]:\n",
    "        print(i)"
=======
    "def data(x,y,z):\n",
    "    if x * y == z%100:\n",
    "        return True\n",
    "    else:\n",
    "        return False\n",
    "dia=int(input(\"dia\"))\n",
    "mes=int(input(\"mes\"))\n",
    "ano=int(input(\"ano\"))\n",
    "if data(dia,mes,ano) == True:\n",
    "        print(f\"Data mágica: {dia}/{mes}/{ano}\")\n",
    "else:\n",
    "    print(\"Não é data mágica\")"
>>>>>>> 8a9b0785aaec3ea235f24549eb0d1afa8cb58a79
   ]
  },
  {
   "cell_type": "code",
<<<<<<< HEAD
   "execution_count": 68,
=======
   "execution_count": 57,
>>>>>>> 8a9b0785aaec3ea235f24549eb0d1afa8cb58a79
   "metadata": {},
   "outputs": [
    {
     "name": "stdout",
     "output_type": "stream",
     "text": [
<<<<<<< HEAD
      "-10\n",
      "5\n",
      "-2.0\n"
=======
      "Data mágica: 19/5/1995\n",
      "Data mágica: 24/4/1996\n",
      "Data mágica: 16/6/1996\n",
      "Data mágica: 12/8/1996\n",
      "Data mágica: 8/12/1996\n",
      "Data mágica: 14/7/1998\n",
      "Data mágica: 11/9/1999\n",
      "Data mágica: 9/11/1999\n"
>>>>>>> 8a9b0785aaec3ea235f24549eb0d1afa8cb58a79
     ]
    }
   ],
   "source": [
<<<<<<< HEAD
    "temp = [-10, -8, 0, 1, 2, 5, -2, -4]\n",
    "print(min(temp))\n",
    "print(max(temp))\n",
    "print(sum(temp)/len(temp))"
=======
    "def data(x,y,z):\n",
    "    if x * y == z%100:\n",
    "        return True\n",
    "    else:\n",
    "        return False\n",
    "def anos_magicos(anoInicio,anoFim):\n",
    "    for ano in range(anoInicio, anoFim+1):\n",
    "        for mes in range(1,13):\n",
    "            for dia in range(1,32):\n",
    "                if data(dia,mes,ano) == True:\n",
    "                    print(f\"Data mágica: {dia}/{mes}/{ano}\")\n",
    "anos_magicos(1995,2000)"
>>>>>>> 8a9b0785aaec3ea235f24549eb0d1afa8cb58a79
   ]
  },
  {
   "cell_type": "code",
<<<<<<< HEAD
   "execution_count": 3,
=======
   "execution_count": 64,
>>>>>>> 8a9b0785aaec3ea235f24549eb0d1afa8cb58a79
   "metadata": {},
   "outputs": [
    {
     "name": "stdout",
     "output_type": "stream",
     "text": [
<<<<<<< HEAD
      "oi\n",
      "td\n",
      "bem\n",
      "?\n",
      "\n"
=======
      "9\n"
>>>>>>> 8a9b0785aaec3ea235f24549eb0d1afa8cb58a79
     ]
    }
   ],
   "source": [
<<<<<<< HEAD
    "import sys\n",
    "list = []\n",
    "list1 = []\n",
    "plvr=str(input(\"Digite uma palavra\"))\n",
    "list.append(plvr)\n",
    "if plvr==\"\":\n",
    "    sys.exit\n",
    "while plvr != \"\" :\n",
    "    plvr=str(input(\"Digite uma palavra\"))\n",
    "    list.append(plvr)\n",
    "for i in list:\n",
    "    if i not in list1:\n",
    "        list1.append(i)\n",
    "for i in list1:\n",
    "    print(i)"
=======
    "x=int(input(\"Número 1\"))\n",
    "y=int(input(\"Número 2\"))\n",
    "maximo = lambda x, y: x if x>y else y\n",
    "print(maximo(x,y))\n"
   ]
  },
  {
   "cell_type": "code",
   "execution_count": null,
   "metadata": {},
   "outputs": [
    {
     "name": "stdout",
     "output_type": "stream",
     "text": [
      "True\n"
     ]
    }
   ],
   "source": [
    "x=int(input(\"Número 1\"))\n",
    "y=int(input(\"Número 2\"))\n",
    "multiplo = lambda x, y: True if x%y == 0 else False\n",
    "print(multiplo(x,y))"
   ]
  },
  {
   "cell_type": "code",
   "execution_count": 67,
   "metadata": {},
   "outputs": [
    {
     "name": "stdout",
     "output_type": "stream",
     "text": [
      "50.0\n"
     ]
    }
   ],
   "source": [
    "x=int(input(\"Número 1\"))\n",
    "y=int(input(\"Número 2\"))\n",
    "area = lambda x,y: x*y/2\n",
    "print(area(x,y))"
   ]
  },
  {
   "cell_type": "code",
   "execution_count": 73,
   "metadata": {},
   "outputs": [
    {
     "name": "stdout",
     "output_type": "stream",
     "text": [
      "10.0 13.0 9.0\n"
     ]
    }
   ],
   "source": [
    "i=int(input(\"um,dois ou tres\"))\n",
    "A=float(input(\"valor um\"))\n",
    "B=float(input(\"valor dois\"))\n",
    "C=float(input(\"valor tres\"))\n",
    "um = 0\n",
    "dois = 0\n",
    "tres = 0\n",
    "def I (a,b,c):\n",
    "    if a>b and a>c:\n",
    "        global um\n",
    "        global dois\n",
    "        global tres\n",
    "        um = a\n",
    "        if b>c:\n",
    "            dois=b\n",
    "            tres=c\n",
    "        else:\n",
    "            dois=c\n",
    "            tres=b\n",
    "    if b>a and b>c:\n",
    "        um = b\n",
    "        if a>c:\n",
    "            dois=a\n",
    "            tres=c\n",
    "        else:\n",
    "            dois=c\n",
    "            tres=a\n",
    "    if c>a and c>b:\n",
    "        um=c\n",
    "        if a>b:\n",
    "            dois=a\n",
    "            tres=b\n",
    "        else:\n",
    "            dois=b\n",
    "            tres=a\n",
    "        \n",
    "I(A,B,C)\n",
    "if i == 1:\n",
    "    print(um,dois,tres)\n",
    "if i == 2:\n",
    "    print(tres,dois,um)\n",
    "if i == 3:\n",
    "    print(dois,um,tres)"
   ]
  },
  {
   "cell_type": "code",
   "execution_count": 76,
   "metadata": {},
   "outputs": [
    {
     "name": "stdout",
     "output_type": "stream",
     "text": [
      "10 0\n"
     ]
    }
   ],
   "source": [
    "def quoResto(dividendo, divisor):\n",
    "    quociente = 0\n",
    "    resto = dividendo\n",
    "    while resto>=divisor:\n",
    "        resto -= divisor\n",
    "        quociente +=1\n",
    "    return quociente, resto\n",
    "dividendo = int(input(\"dividendo\"))\n",
    "divisor = int(input(\"divisor\"))\n",
    "\n",
    "quociente, resto = quoResto(dividendo,divisor)\n",
    "print(quociente, resto)"
   ]
  },
  {
   "cell_type": "code",
   "execution_count": 78,
   "metadata": {},
   "outputs": [
    {
     "name": "stdout",
     "output_type": "stream",
     "text": [
      "B = 3 K = 2\n"
     ]
    }
   ],
   "source": [
    "n = int(input(\"n\"))\n",
    "def exponencial(n):\n",
    "    b = 2\n",
    "    k = 1\n",
    "    if n == 1:\n",
    "        print(\"B = 1, K = 0\")\n",
    "    while True:\n",
    "        k = 1\n",
    "        while b**k<n:\n",
    "            k+=1\n",
    "        if b**k == n:\n",
    "            print(f\"B = {b} K = {k}\")\n",
    "            return\n",
    "        else:\n",
    "            b+=1\n",
    "exponencial(n)\n",
    "        "
>>>>>>> 8a9b0785aaec3ea235f24549eb0d1afa8cb58a79
   ]
  }
 ],
 "metadata": {
  "kernelspec": {
   "display_name": "base",
   "language": "python",
   "name": "python3"
  },
  "language_info": {
   "codemirror_mode": {
    "name": "ipython",
    "version": 3
   },
   "file_extension": ".py",
   "mimetype": "text/x-python",
   "name": "python",
   "nbconvert_exporter": "python",
   "pygments_lexer": "ipython3",
   "version": "3.9.13"
  }
 },
 "nbformat": 4,
 "nbformat_minor": 2
}
