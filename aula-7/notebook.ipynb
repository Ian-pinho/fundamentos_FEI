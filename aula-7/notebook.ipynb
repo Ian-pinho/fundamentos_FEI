{
 "cells": [
  {
   "cell_type": "code",
   "execution_count": 4,
   "metadata": {},
   "outputs": [
    {
     "name": "stdout",
     "output_type": "stream",
     "text": [
      "['1', '2', '3', '4', '5']\n",
      "1 5\n"
     ]
    }
   ],
   "source": [
    "v1=input()\n",
    "v2=input()\n",
    "v3=input()\n",
    "v4=input()\n",
    "v5=input()\n",
    "l=[]\n",
    "l.append(v1)\n",
    "l.append(v2)\n",
    "l.append(v3)\n",
    "l.append(v4)\n",
    "l.append(v5)\n",
    "print(l)\n",
    "print(l[0], l[4])\n",
    "\n"
   ]
  },
  {
   "cell_type": "code",
   "execution_count": 7,
   "metadata": {},
   "outputs": [
    {
     "name": "stdout",
     "output_type": "stream",
     "text": [
      "['1', '2', '3', '4', '5', '6']\n",
      "1 6\n"
     ]
    }
   ],
   "source": [
    "nums = int(input(\"Digite quantos números quer colocar na lista: \"))\n",
    "cont = 0\n",
    "lista=[]\n",
    "while cont != nums:\n",
    "    num = input(\"Digite o número para colocar na lista: \")\n",
    "    lista.append(num)\n",
    "    cont+=1\n",
    "print(lista)\n",
    "print(lista[0], lista[len(lista)-1])"
   ]
  },
  {
   "cell_type": "code",
   "execution_count": 28,
   "metadata": {},
   "outputs": [
    {
     "name": "stdout",
     "output_type": "stream",
     "text": [
      "2\n"
     ]
    }
   ],
   "source": [
    "T = [11, 7, 2, 4]\n",
    "\n",
    "print(sorted(T, key=int)[0])"
   ]
  },
  {
   "cell_type": "code",
   "execution_count": 29,
   "metadata": {},
   "outputs": [
    {
     "name": "stdout",
     "output_type": "stream",
     "text": [
      "2\n"
     ]
    }
   ],
   "source": [
    "T = [11, 7, 2, 4]\n",
    "\n",
    "print(min(T))"
   ]
  },
  {
   "cell_type": "code",
   "execution_count": 41,
   "metadata": {},
   "outputs": [
    {
     "name": "stdout",
     "output_type": "stream",
     "text": [
      "0 987968465134168\n"
     ]
    }
   ],
   "source": [
    "list=[]\n",
    "\n",
    "for num in range(10):\n",
    "    num=int(input(\"Digite um número: \"))\n",
    "    list.append(num)\n",
    "maior = max(list)\n",
    "print(list.index(max(list)), max(list))"
   ]
  },
  {
   "cell_type": "code",
   "execution_count": null,
   "metadata": {},
   "outputs": [
    {
     "name": "stdout",
     "output_type": "stream",
     "text": [
      "[1, 2, 3, 4, 5, 6, 7, 8, 9, 10]\n",
      "30\n",
      "25\n",
      "None\n"
     ]
    }
   ],
   "source": [
    "list=[]\n",
    "par=0\n",
    "indxPar=0\n",
    "for num in range(10):\n",
    "    num=int(input(\"Digite um número: \"))\n",
    "    list.append(num)\n",
    "for idx in range(10):\n",
    "    if list[idx]%2==0:\n",
    "        par+=list[idx]\n",
    "    if idx%2==0:\n",
    "        indxPar+=list[idx]\n",
    "print(list)\n",
    "print(par)\n",
    "print(indxPar)\n"
   ]
  },
  {
   "cell_type": "code",
   "execution_count": 43,
   "metadata": {},
   "outputs": [
    {
     "name": "stdout",
     "output_type": "stream",
     "text": [
      "10\n",
      "9\n",
      "8\n",
      "7\n",
      "6\n",
      "5\n",
      "4\n",
      "3\n",
      "2\n",
      "1\n"
     ]
    }
   ],
   "source": [
    "list=[]\n",
    "inv = -1\n",
    "nums = int(input(\"Digite quantos números quer colocar na lista: \"))\n",
    "for num in range(nums):\n",
    "    num=int(input(\"Digite um número: \"))\n",
    "    list.append(num)\n",
    "for i in list:\n",
    "    print(list[inv])\n",
    "    inv-=1"
   ]
  },
  {
   "cell_type": "code",
   "execution_count": 63,
   "metadata": {},
   "outputs": [
    {
     "name": "stdout",
     "output_type": "stream",
     "text": [
      "[10, 9, 8, 7, 6, 5, 4, 3, 2, 1]\n"
     ]
    }
   ],
   "source": [
    "list=[]\n",
    "inv = -1\n",
    "nums = int(input(\"Digite quantos números quer colocar na lista: \"))\n",
    "for num in range(nums):\n",
    "    num=int(input(\"Digite um número: \"))\n",
    "    list.append(num)\n",
    "list.reverse()\n",
    "print(list)"
   ]
  },
  {
   "cell_type": "code",
   "execution_count": 66,
   "metadata": {},
   "outputs": [
    {
     "name": "stdout",
     "output_type": "stream",
     "text": [
      "[1, 2, 5, 3, 2, 6, 1, 2, 10, 9]\n",
      "5\n",
      "6\n",
      "10\n"
     ]
    }
   ],
   "source": [
    "list = []\n",
    "for num in range(10):\n",
    "    num=int(input(\"Digite um número: \"))\n",
    "    list.append(num)\n",
    "print(list)\n",
    "for i in list[2:]:\n",
    "    if i> list[list.index(i)-1] + list[list.index(i)-2]:\n",
    "        print(i)"
   ]
  },
  {
   "cell_type": "code",
   "execution_count": 68,
   "metadata": {},
   "outputs": [
    {
     "name": "stdout",
     "output_type": "stream",
     "text": [
      "-10\n",
      "5\n",
      "-2.0\n"
     ]
    }
   ],
   "source": [
    "temp = [-10, -8, 0, 1, 2, 5, -2, -4]\n",
    "print(min(temp))\n",
    "print(max(temp))\n",
    "print(sum(temp)/len(temp))"
   ]
  },
  {
   "cell_type": "code",
   "execution_count": 3,
   "metadata": {},
   "outputs": [
    {
     "name": "stdout",
     "output_type": "stream",
     "text": [
      "oi\n",
      "td\n",
      "bem\n",
      "?\n",
      "\n"
     ]
    }
   ],
   "source": [
    "import sys\n",
    "list = []\n",
    "list1 = []\n",
    "plvr=str(input(\"Digite uma palavra\"))\n",
    "list.append(plvr)\n",
    "if plvr==\"\":\n",
    "    sys.exit\n",
    "while plvr != \"\" :\n",
    "    plvr=str(input(\"Digite uma palavra\"))\n",
    "    list.append(plvr)\n",
    "for i in list:\n",
    "    if i not in list1:\n",
    "        list1.append(i)\n",
    "for i in list1:\n",
    "    print(i)"
   ]
  }
 ],
 "metadata": {
  "kernelspec": {
   "display_name": "base",
   "language": "python",
   "name": "python3"
  },
  "language_info": {
   "codemirror_mode": {
    "name": "ipython",
    "version": 3
   },
   "file_extension": ".py",
   "mimetype": "text/x-python",
   "name": "python",
   "nbconvert_exporter": "python",
   "pygments_lexer": "ipython3",
   "version": "3.9.13"
  }
 },
 "nbformat": 4,
 "nbformat_minor": 2
}
