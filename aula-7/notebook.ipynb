{
 "cells": [
  {
   "cell_type": "code",
   "execution_count": 3,
   "metadata": {},
   "outputs": [
    {
     "name": "stdout",
     "output_type": "stream",
     "text": [
      "4.0\n",
      "15.0\n"
     ]
    }
   ],
   "source": [
    "def med(x,y):\n",
    "    media = (x+y)/2\n",
    "    print(media)\n",
    "med(1,7)\n",
    "med(10,20)"
   ]
  },
  {
   "cell_type": "code",
   "execution_count": 15,
   "metadata": {},
   "outputs": [
    {
     "name": "stdout",
     "output_type": "stream",
     "text": [
      "Média de 10 e 20 é = 15.0\n"
     ]
    }
   ],
   "source": [
    "def med(x,y):\n",
    "    media = (x+y)/2\n",
    "    return media\n",
    "\n",
    "n1=int(input(\"Número 1\"))\n",
    "n2=int(input(\"Número 2\"))\n",
    "print(f\"Média de {n1} e {n2} é = {med(n1,n2)}\")"
   ]
  },
  {
   "cell_type": "code",
   "execution_count": 20,
   "metadata": {},
   "outputs": [
    {
     "name": "stdout",
     "output_type": "stream",
     "text": [
      "O maior de 10 e 11 é = 11\n"
     ]
    }
   ],
   "source": [
    "def maximo (n1,n2):\n",
    "    list = [n1, n2]\n",
    "    maior = max(list)\n",
    "    return maior\n",
    "\n",
    "n1=int(input(\"Número 1\"))\n",
    "n2=int(input(\"Número 2\"))\n",
    "print(f\"O maior de {n1} e {n2} é = {maximo(n1,n2)}\")"
   ]
  },
  {
   "cell_type": "code",
   "execution_count": 23,
   "metadata": {},
   "outputs": [
    {
     "name": "stdout",
     "output_type": "stream",
     "text": [
      "a afirmação '10 é multiplo de 3' = False\n"
     ]
    }
   ],
   "source": [
    "def multiplo(x, y):\n",
    "    if x % y == 0:\n",
    "        return True\n",
    "    else: \n",
    "        return False\n",
    "    \n",
    "n1=int(input(\"Número 1\"))\n",
    "n2=int(input(\"Número 2\"))\n",
    "print(f\"a afirmação '{n1} é multiplo de {n2}' = {multiplo(n1,n2)}\")"
   ]
  },
  {
   "cell_type": "code",
   "execution_count": null,
   "metadata": {},
   "outputs": [
    {
     "name": "stdout",
     "output_type": "stream",
     "text": [
      "a area da piramide de base 10 e altura 10 é= 50.0\n"
     ]
    }
   ],
   "source": [
    "def tri(x,y):\n",
    "    area = x*y/2\n",
    "    return area\n",
    "\n",
    "n1=int(input(\"Número 1\"))\n",
    "n2=int(input(\"Número 2\"))\n",
    "print(f\"a area da piramide de base {n1} e altura {n2} é= {tri(n1,n2)}\")"
   ]
  },
  {
   "cell_type": "code",
   "execution_count": null,
   "metadata": {},
   "outputs": [
    {
     "name": "stdout",
     "output_type": "stream",
     "text": [
      "resultado é = 39.48683298050514\n"
     ]
    }
   ],
   "source": [
    "from math import sqrt\n",
    "def coiso(x,y,z):\n",
    "    return sqrt(x) + sqrt(y) + sqrt(z) + (x+y)/2 + (y+z)/2 + (x+z)/2\n",
    "\n",
    "n1=int(input(\"Número 1\"))\n",
    "n2=int(input(\"Número 2\"))\n",
    "n3=int(input(\"Número 3\"))\n",
    "print(f\"resultado é = {coiso(n1,n2,n3)}\")"
   ]
  },
  {
   "cell_type": "code",
   "execution_count": 47,
   "metadata": {},
   "outputs": [
    {
     "name": "stdout",
     "output_type": "stream",
     "text": [
      "Pode doar sangue\n"
     ]
    }
   ],
   "source": [
    "sex = str(input(\"Digite seu sexo\"))\n",
    "pes = float(input(\"Digite seu peso\"))\n",
    "\n",
    "def sangue (x,y):\n",
    "    if x == \"m\":\n",
    "        if y > 60:\n",
    "            return True\n",
    "        else: \n",
    "            return False\n",
    "    else:\n",
    "        if y > 50:\n",
    "            return True\n",
    "        else: \n",
    "            return False\n",
    "if sangue(sex,pes):\n",
    "    print(\"Pode doar sangue\")\n",
    "else:\n",
    "    print(\"Não pode doar sangue\")"
   ]
  },
  {
   "cell_type": "code",
   "execution_count": null,
   "metadata": {},
   "outputs": [
    {
     "name": "stdout",
     "output_type": "stream",
     "text": [
      "Não é data mágica\n"
     ]
    }
   ],
   "source": [
    "def data(x,y,z):\n",
    "    if x * y == z%100:\n",
    "        return True\n",
    "    else:\n",
    "        return False\n",
    "dia=int(input(\"dia\"))\n",
    "mes=int(input(\"mes\"))\n",
    "ano=int(input(\"ano\"))\n",
    "if data(dia,mes,ano) == True:\n",
    "        print(f\"Data mágica: {dia}/{mes}/{ano}\")\n",
    "else:\n",
    "    print(\"Não é data mágica\")"
   ]
  },
  {
   "cell_type": "code",
   "execution_count": 57,
   "metadata": {},
   "outputs": [
    {
     "name": "stdout",
     "output_type": "stream",
     "text": [
      "Data mágica: 19/5/1995\n",
      "Data mágica: 24/4/1996\n",
      "Data mágica: 16/6/1996\n",
      "Data mágica: 12/8/1996\n",
      "Data mágica: 8/12/1996\n",
      "Data mágica: 14/7/1998\n",
      "Data mágica: 11/9/1999\n",
      "Data mágica: 9/11/1999\n"
     ]
    }
   ],
   "source": [
    "def data(x,y,z):\n",
    "    if x * y == z%100:\n",
    "        return True\n",
    "    else:\n",
    "        return False\n",
    "def anos_magicos(anoInicio,anoFim):\n",
    "    for ano in range(anoInicio, anoFim+1):\n",
    "        for mes in range(1,13):\n",
    "            for dia in range(1,32):\n",
    "                if data(dia,mes,ano) == True:\n",
    "                    print(f\"Data mágica: {dia}/{mes}/{ano}\")\n",
    "anos_magicos(1995,2000)"
   ]
  },
  {
   "cell_type": "code",
   "execution_count": 64,
   "metadata": {},
   "outputs": [
    {
     "name": "stdout",
     "output_type": "stream",
     "text": [
      "9\n"
     ]
    }
   ],
   "source": [
    "x=int(input(\"Número 1\"))\n",
    "y=int(input(\"Número 2\"))\n",
    "maximo = lambda x, y: x if x>y else y\n",
    "print(maximo(x,y))\n"
   ]
  },
  {
   "cell_type": "code",
   "execution_count": null,
   "metadata": {},
   "outputs": [
    {
     "name": "stdout",
     "output_type": "stream",
     "text": [
      "True\n"
     ]
    }
   ],
   "source": [
    "x=int(input(\"Número 1\"))\n",
    "y=int(input(\"Número 2\"))\n",
    "multiplo = lambda x, y: True if x%y == 0 else False\n",
    "print(multiplo(x,y))"
   ]
  },
  {
   "cell_type": "code",
   "execution_count": 67,
   "metadata": {},
   "outputs": [
    {
     "name": "stdout",
     "output_type": "stream",
     "text": [
      "50.0\n"
     ]
    }
   ],
   "source": [
    "x=int(input(\"Número 1\"))\n",
    "y=int(input(\"Número 2\"))\n",
    "area = lambda x,y: x*y/2\n",
    "print(area(x,y))"
   ]
  },
  {
   "cell_type": "code",
   "execution_count": 73,
   "metadata": {},
   "outputs": [
    {
     "name": "stdout",
     "output_type": "stream",
     "text": [
      "10.0 13.0 9.0\n"
     ]
    }
   ],
   "source": [
    "i=int(input(\"um,dois ou tres\"))\n",
    "A=float(input(\"valor um\"))\n",
    "B=float(input(\"valor dois\"))\n",
    "C=float(input(\"valor tres\"))\n",
    "um = 0\n",
    "dois = 0\n",
    "tres = 0\n",
    "def I (a,b,c):\n",
    "    if a>b and a>c:\n",
    "        global um\n",
    "        global dois\n",
    "        global tres\n",
    "        um = a\n",
    "        if b>c:\n",
    "            dois=b\n",
    "            tres=c\n",
    "        else:\n",
    "            dois=c\n",
    "            tres=b\n",
    "    if b>a and b>c:\n",
    "        um = b\n",
    "        if a>c:\n",
    "            dois=a\n",
    "            tres=c\n",
    "        else:\n",
    "            dois=c\n",
    "            tres=a\n",
    "    if c>a and c>b:\n",
    "        um=c\n",
    "        if a>b:\n",
    "            dois=a\n",
    "            tres=b\n",
    "        else:\n",
    "            dois=b\n",
    "            tres=a\n",
    "        \n",
    "I(A,B,C)\n",
    "if i == 1:\n",
    "    print(um,dois,tres)\n",
    "if i == 2:\n",
    "    print(tres,dois,um)\n",
    "if i == 3:\n",
    "    print(dois,um,tres)"
   ]
  },
  {
   "cell_type": "code",
   "execution_count": 76,
   "metadata": {},
   "outputs": [
    {
     "name": "stdout",
     "output_type": "stream",
     "text": [
      "10 0\n"
     ]
    }
   ],
   "source": [
    "def quoResto(dividendo, divisor):\n",
    "    quociente = 0\n",
    "    resto = dividendo\n",
    "    while resto>=divisor:\n",
    "        resto -= divisor\n",
    "        quociente +=1\n",
    "    return quociente, resto\n",
    "dividendo = int(input(\"dividendo\"))\n",
    "divisor = int(input(\"divisor\"))\n",
    "\n",
    "quociente, resto = quoResto(dividendo,divisor)\n",
    "print(quociente, resto)"
   ]
  },
  {
   "cell_type": "code",
   "execution_count": 78,
   "metadata": {},
   "outputs": [
    {
     "name": "stdout",
     "output_type": "stream",
     "text": [
      "B = 3 K = 2\n"
     ]
    }
   ],
   "source": [
    "n = int(input(\"n\"))\n",
    "def exponencial(n):\n",
    "    b = 2\n",
    "    k = 1\n",
    "    if n == 1:\n",
    "        print(\"B = 1, K = 0\")\n",
    "    while True:\n",
    "        k = 1\n",
    "        while b**k<n:\n",
    "            k+=1\n",
    "        if b**k == n:\n",
    "            print(f\"B = {b} K = {k}\")\n",
    "            return\n",
    "        else:\n",
    "            b+=1\n",
    "exponencial(n)\n",
    "        "
   ]
  }
 ],
 "metadata": {
  "kernelspec": {
   "display_name": "base",
   "language": "python",
   "name": "python3"
  },
  "language_info": {
   "codemirror_mode": {
    "name": "ipython",
    "version": 3
   },
   "file_extension": ".py",
   "mimetype": "text/x-python",
   "name": "python",
   "nbconvert_exporter": "python",
   "pygments_lexer": "ipython3",
   "version": "3.9.13"
  }
 },
 "nbformat": 4,
 "nbformat_minor": 2
}
