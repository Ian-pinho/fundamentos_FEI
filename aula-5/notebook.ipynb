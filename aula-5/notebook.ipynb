{
 "cells": [
  {
   "cell_type": "code",
   "execution_count": 5,
   "metadata": {},
   "outputs": [
    {
     "name": "stdout",
     "output_type": "stream",
     "text": [
      "1\n",
      "3\n",
      "5\n",
      "7\n",
      "9\n"
     ]
    }
   ],
   "source": [
    "num1 = int(input(\"Digite um número: \"))\n",
    "cont = 1\n",
    "while cont < num1:\n",
    "    print(cont)\n",
    "    cont +=2"
   ]
  },
  {
   "cell_type": "code",
   "execution_count": 31,
   "metadata": {},
   "outputs": [
    {
     "name": "stdout",
     "output_type": "stream",
     "text": [
      "1\n",
      "2\n",
      "3\n",
      "4\n",
      "5\n",
      "6\n",
      "7\n",
      "8\n",
      "9\n",
      "10\n",
      "11\n",
      "12\n",
      "13\n",
      "14\n",
      "15\n",
      "16\n",
      "17\n",
      "18\n",
      "19\n",
      "20\n",
      "21\n",
      "22\n",
      "23\n",
      "24\n",
      "25\n",
      "26\n",
      "27\n",
      "28\n",
      "29\n",
      "30\n",
      "31\n",
      "32\n",
      "33\n",
      "34\n",
      "35\n",
      "36\n",
      "37\n",
      "38\n",
      "39\n",
      "40\n",
      "41\n",
      "42\n",
      "43\n",
      "44\n",
      "45\n",
      "46\n",
      "47\n",
      "48\n",
      "49\n",
      "50\n",
      "52\n",
      "54\n",
      "56\n",
      "58\n",
      "60\n",
      "62\n",
      "64\n",
      "66\n",
      "68\n",
      "70\n",
      "72\n",
      "74\n",
      "76\n",
      "78\n",
      "80\n",
      "82\n",
      "84\n",
      "86\n",
      "88\n",
      "90\n",
      "92\n",
      "94\n",
      "96\n",
      "98\n",
      "100\n"
     ]
    }
   ],
   "source": [
    "cont =1\n",
    "while cont <= 100:\n",
    "    print(cont)\n",
    "    if cont < 50:\n",
    "        cont+=1\n",
    "    else:\n",
    "        cont+=2"
   ]
  },
  {
   "cell_type": "code",
   "execution_count": 32,
   "metadata": {},
   "outputs": [
    {
     "name": "stdout",
     "output_type": "stream",
     "text": [
      "4\n",
      "8\n",
      "12\n",
      "16\n",
      "20\n",
      "24\n",
      "28\n",
      "32\n",
      "36\n",
      "40\n"
     ]
    }
   ],
   "source": [
    "num=int(input(\"Digite um número para ver sua tabuada: \"))\n",
    "cont=1\n",
    "while cont<=10:\n",
    "    print(num*cont)\n",
    "    cont+=1\n",
    "    "
   ]
  },
  {
   "cell_type": "code",
   "execution_count": 14,
   "metadata": {},
   "outputs": [
    {
     "name": "stdout",
     "output_type": "stream",
     "text": [
      "6\n"
     ]
    }
   ],
   "source": [
    "cont=0\n",
    "while cont<6:\n",
    "    numList=int(input(\"Digite 6 números para ver o maior deles: \"))\n",
    "    lista=[]\n",
    "    lista.append(numList)\n",
    "    cont+=1\n",
    "    lista.sort()\n",
    "print(lista[0])"
   ]
  },
  {
   "cell_type": "code",
   "execution_count": 16,
   "metadata": {},
   "outputs": [
    {
     "name": "stdout",
     "output_type": "stream",
     "text": [
      "Número aceito.\n"
     ]
    }
   ],
   "source": [
    "num=int(input(\"Digite um número de 0-10: \"))\n",
    "while num<0 or num>10:\n",
    "    num=int(input(\"Número inválido, digite outro número válido: \"))\n",
    "print(\"Número aceito.\")\n",
    "\n",
    "    "
   ]
  },
  {
   "cell_type": "code",
   "execution_count": 42,
   "metadata": {},
   "outputs": [
    {
     "name": "stdout",
     "output_type": "stream",
     "text": [
      "Quantidade de números digitados:  10\n",
      "Soma dos números digitados:  55\n",
      "Média dos números digitados:  5.5\n"
     ]
    }
   ],
   "source": [
    "cont=0\n",
    "acumulador = 0\n",
    "num=int(input(\"Digite um número para soma-lo ou 0 para exibir o resultado: \"))\n",
    "while num!=0:\n",
    "    acumulador+=num\n",
    "    num=int(input(\"Digite um número para soma-lo ou 0 para exibir o resultado: \"))\n",
    "    cont+=1\n",
    "print(\"Quantidade de números digitados: \", cont)\n",
    "print(\"Soma dos números digitados: \", acumulador)\n",
    "print(\"Média dos números digitados: \", acumulador/cont)\n"
   ]
  },
  {
   "cell_type": "code",
   "execution_count": 27,
   "metadata": {},
   "outputs": [
    {
     "name": "stdout",
     "output_type": "stream",
     "text": [
      "55\n"
     ]
    }
   ],
   "source": [
    "cont=0\n",
    "numSum=0\n",
    "while cont<10:\n",
    "    numSum+=int(input(\"Digite 10 números para ver a soma deles: \"))\n",
    "    cont+=1\n",
    "print(numSum)"
   ]
  },
  {
   "cell_type": "code",
   "execution_count": 30,
   "metadata": {},
   "outputs": [
    {
     "name": "stdout",
     "output_type": "stream",
     "text": [
      "Soma dos números digitados:  55\n"
     ]
    }
   ],
   "source": [
    "cont=0\n",
    "acumulador = 0\n",
    "num=int(input(\"Digite um número para soma-lo ou 0 para exibir o resultado: \"))\n",
    "while num!=0:\n",
    "    acumulador+=num\n",
    "    num=int(input(\"Digite um número para soma-lo ou 0 para exibir o resultado: \"))\n",
    "    cont+=1\n",
    "print(\"Soma dos números digitados: \", acumulador)"
   ]
  },
  {
   "cell_type": "code",
   "execution_count": 37,
   "metadata": {},
   "outputs": [
    {
     "name": "stdout",
     "output_type": "stream",
     "text": [
      "1.0\n",
      "1.5\n",
      "1.8333333333333333\n",
      "2.083333333333333\n",
      "2.283333333333333\n"
     ]
    }
   ],
   "source": [
    "cont=0\n",
    "div=1\n",
    "S=0\n",
    "n=int(input(\"Digite um número inteiro positivo: \"))\n",
    "if n<1:\n",
    "    n=int(input(\"Digite um número válido, inteiro e positivo: \"))\n",
    "else:\n",
    "    while div<=n:\n",
    "        S+=1/div\n",
    "        print(S)\n",
    "        div+=1"
   ]
  },
  {
   "cell_type": "code",
   "execution_count": 41,
   "metadata": {},
   "outputs": [
    {
     "name": "stdout",
     "output_type": "stream",
     "text": [
      "Alunos aprovados:  5 Média:  6.125\n"
     ]
    }
   ],
   "source": [
    "notas = [4,7,3,8,2,6,10,9]\n",
    "apv=0\n",
    "for nota in notas:\n",
    "    if nota>=6:\n",
    "        apv+=1\n",
    "print(\"Alunos aprovados: \", apv, \"Média: \", sum(notas)/len(notas))"
   ]
  }
 ],
 "metadata": {
  "kernelspec": {
   "display_name": "base",
   "language": "python",
   "name": "python3"
  },
  "language_info": {
   "codemirror_mode": {
    "name": "ipython",
    "version": 3
   },
   "file_extension": ".py",
   "mimetype": "text/x-python",
   "name": "python",
   "nbconvert_exporter": "python",
   "pygments_lexer": "ipython3",
   "version": "3.9.13"
  }
 },
 "nbformat": 4,
 "nbformat_minor": 2
}
