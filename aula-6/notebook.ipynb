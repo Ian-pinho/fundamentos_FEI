{
 "cells": [
  {
   "cell_type": "code",
   "execution_count": 2,
   "metadata": {},
   "outputs": [
    {
     "name": "stdout",
     "output_type": "stream",
     "text": [
      "É primo\n",
      "É primo\n",
      "É primo\n",
      "Não é primo\n",
      "É primo\n",
      "Não é primo\n",
      "É primo\n",
      "Não é primo\n",
      "Não é primo\n",
      "Não é primo\n",
      "A quantidade de primos é 5 de 10 números.\n"
     ]
    }
   ],
   "source": [
    "cont = int(input(\"Digite o número de testes que deseja realizar: \"))\n",
    "prim = 0\n",
    "for i in range(cont):\n",
    "    num = int(input(\"Digite o número a ser testado: \"))\n",
    "    primo = True\n",
    "    if num > 1:\n",
    "        for d in range(2,num):\n",
    "            if num % d == 0:\n",
    "                primo = False\n",
    "    if primo == True:\n",
    "        prim +=1\n",
    "        print(\"É primo\")\n",
    "    else:\n",
    "        print(\"Não é primo\")\n",
    "print(f\"A quantidade de primos é {prim} de {cont} números.\")"
   ]
  },
  {
   "cell_type": "code",
   "execution_count": 58,
   "metadata": {},
   "outputs": [
    {
     "name": "stdout",
     "output_type": "stream",
     "text": [
      "X O X O X \n",
      "Y M Y M Y \n",
      "X O X O X \n",
      "Y M Y M Y \n",
      "X O X O X \n"
     ]
    }
   ],
   "source": [
    "c = int(input(\"Digite a altura do retângulo: \"))\n",
    "l = int(input(\"Digite a largura do retângulo: \"))\n",
    "for linha in range(l):\n",
    "    for coluna in range(c):\n",
    "            if linha % 2 == 0:\n",
    "                if coluna % 2 == 0:\n",
    "                    print(\"X\", end=\" \")\n",
    "                else:\n",
    "                    print(\"O\", end=\" \")\n",
    "            else:\n",
    "                if coluna % 2 == 0:\n",
    "                    print(\"Y\", end=\" \")\n",
    "                else:\n",
    "                    print(\"M\", end=\" \")\n",
    "    print()\n",
    "\n",
    "        "
   ]
  },
  {
   "cell_type": "code",
   "execution_count": 63,
   "metadata": {},
   "outputs": [
    {
     "name": "stdout",
     "output_type": "stream",
     "text": [
      "O número de dígitos do seu número é 1.\n"
     ]
    }
   ],
   "source": [
    "count = 0\n",
    "n = int(input(\"Digite um número: \"))\n",
    "while n>0:\n",
    "    n=n//10\n",
    "    count+=1\n",
    "print(f\"O número de dígitos do seu número é {count}.\")"
   ]
  },
  {
   "cell_type": "code",
   "execution_count": 66,
   "metadata": {},
   "outputs": [
    {
     "name": "stdout",
     "output_type": "stream",
     "text": [
      "1\n",
      "1\n",
      "2\n",
      "3\n",
      "5\n",
      "8\n",
      "13\n",
      "21\n",
      "34\n",
      "55\n",
      "89\n",
      "144\n",
      "233\n",
      "377\n",
      "610\n",
      "987\n",
      "1597\n",
      "Falso\n"
     ]
    }
   ],
   "source": [
    "a = 0\n",
    "b = 1\n",
    "num=int(input(\"Digite um número: \"))\n",
    "while a <= num:\n",
    "    if a == num:\n",
    "        print(\"Verdadeiro\")\n",
    "        break\n",
    "    c = a + b\n",
    "    a = b\n",
    "    b = c\n",
    "    print(a)\n",
    "if a > num:\n",
    "    print(\"Falso\")"
   ]
  }
 ],
 "metadata": {
  "kernelspec": {
   "display_name": "base",
   "language": "python",
   "name": "python3"
  },
  "language_info": {
   "codemirror_mode": {
    "name": "ipython",
    "version": 3
   },
   "file_extension": ".py",
   "mimetype": "text/x-python",
   "name": "python",
   "nbconvert_exporter": "python",
   "pygments_lexer": "ipython3",
   "version": "3.9.13"
  }
 },
 "nbformat": 4,
 "nbformat_minor": 2
}
